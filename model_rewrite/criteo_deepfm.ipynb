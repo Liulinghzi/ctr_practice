{
 "nbformat": 4,
 "nbformat_minor": 2,
 "metadata": {
  "language_info": {
   "name": "python",
   "codemirror_mode": {
    "name": "ipython",
    "version": 3
   },
   "version": "3.5.6-final"
  },
  "orig_nbformat": 2,
  "file_extension": ".py",
  "mimetype": "text/x-python",
  "name": "python",
  "npconvert_exporter": "python",
  "pygments_lexer": "ipython3",
  "version": 3,
  "kernelspec": {
   "name": "python35664bit2127ad0b2d9e4009a24842ba43a0e75a",
   "display_name": "Python 3.5.6 64-bit"
  }
 },
 "cells": [
  {
   "cell_type": "code",
   "execution_count": 10,
   "metadata": {},
   "outputs": [],
   "source": [
    "import matplotlib\n",
    "matplotlib.use('TkAgg')\n",
    "import matplotlib.pyplot as plt\n",
    "import seaborn as sns\n",
    "import deepctr\n",
    "from deepctr.models import DeepFM\n",
    "from deepctr.inputs import SparseFeat, DenseFeat, get_feature_names\n",
    "\n",
    "import pandas as pd\n",
    ""
   ]
  },
  {
   "cell_type": "code",
   "execution_count": 6,
   "metadata": {},
   "outputs": [],
   "source": [
    "data_dir = '../../DeepCTR/examples/criteo_sample.txt'\n",
    "data = pd.read_csv(data_dir)"
   ]
  },
  {
   "cell_type": "code",
   "execution_count": 7,
   "metadata": {},
   "outputs": [
    {
     "output_type": "execute_result",
     "data": {
      "text/html": "<div>\n<style scoped>\n    .dataframe tbody tr th:only-of-type {\n        vertical-align: middle;\n    }\n\n    .dataframe tbody tr th {\n        vertical-align: top;\n    }\n\n    .dataframe thead th {\n        text-align: right;\n    }\n</style>\n<table border=\"1\" class=\"dataframe\">\n  <thead>\n    <tr style=\"text-align: right;\">\n      <th></th>\n      <th>label</th>\n      <th>I1</th>\n      <th>I2</th>\n      <th>I3</th>\n      <th>I4</th>\n      <th>I5</th>\n      <th>I6</th>\n      <th>I7</th>\n      <th>I8</th>\n      <th>I9</th>\n      <th>I10</th>\n      <th>I11</th>\n      <th>I12</th>\n      <th>I13</th>\n      <th>C1</th>\n      <th>C2</th>\n      <th>C3</th>\n      <th>C4</th>\n      <th>C5</th>\n      <th>C6</th>\n      <th>C7</th>\n      <th>C8</th>\n      <th>C9</th>\n      <th>C10</th>\n      <th>C11</th>\n      <th>C12</th>\n      <th>C13</th>\n      <th>C14</th>\n      <th>C15</th>\n      <th>C16</th>\n      <th>C17</th>\n      <th>C18</th>\n      <th>C19</th>\n      <th>C20</th>\n      <th>C21</th>\n      <th>C22</th>\n      <th>C23</th>\n      <th>C24</th>\n      <th>C25</th>\n      <th>C26</th>\n    </tr>\n  </thead>\n  <tbody>\n    <tr>\n      <td>0</td>\n      <td>0</td>\n      <td>NaN</td>\n      <td>3</td>\n      <td>260.0</td>\n      <td>NaN</td>\n      <td>17668.0</td>\n      <td>NaN</td>\n      <td>NaN</td>\n      <td>33.0</td>\n      <td>NaN</td>\n      <td>NaN</td>\n      <td>NaN</td>\n      <td>0.0</td>\n      <td>NaN</td>\n      <td>05db9164</td>\n      <td>08d6d899</td>\n      <td>9143c832</td>\n      <td>f56b7dd5</td>\n      <td>25c83c98</td>\n      <td>7e0ccccf</td>\n      <td>df5c2d18</td>\n      <td>0b153874</td>\n      <td>a73ee510</td>\n      <td>8f48ce11</td>\n      <td>a7b606c4</td>\n      <td>ae1bb660</td>\n      <td>eae197fd</td>\n      <td>b28479f6</td>\n      <td>bfef54b3</td>\n      <td>bad5ee18</td>\n      <td>e5ba7672</td>\n      <td>87c6f83c</td>\n      <td>NaN</td>\n      <td>NaN</td>\n      <td>0429f84b</td>\n      <td>NaN</td>\n      <td>3a171ecb</td>\n      <td>c0d61a5c</td>\n      <td>NaN</td>\n      <td>NaN</td>\n    </tr>\n    <tr>\n      <td>1</td>\n      <td>0</td>\n      <td>NaN</td>\n      <td>-1</td>\n      <td>19.0</td>\n      <td>35.0</td>\n      <td>30251.0</td>\n      <td>247.0</td>\n      <td>1.0</td>\n      <td>35.0</td>\n      <td>160.0</td>\n      <td>NaN</td>\n      <td>1.0</td>\n      <td>NaN</td>\n      <td>35.0</td>\n      <td>68fd1e64</td>\n      <td>04e09220</td>\n      <td>95e13fd4</td>\n      <td>a1e6a194</td>\n      <td>25c83c98</td>\n      <td>fe6b92e5</td>\n      <td>f819e175</td>\n      <td>062b5529</td>\n      <td>a73ee510</td>\n      <td>ab9456b4</td>\n      <td>6153cf57</td>\n      <td>8882c6cd</td>\n      <td>769a1844</td>\n      <td>b28479f6</td>\n      <td>69f825dd</td>\n      <td>23056e4f</td>\n      <td>d4bb7bd8</td>\n      <td>6fc84bfb</td>\n      <td>NaN</td>\n      <td>NaN</td>\n      <td>5155d8a3</td>\n      <td>NaN</td>\n      <td>be7c41b4</td>\n      <td>ded4aac9</td>\n      <td>NaN</td>\n      <td>NaN</td>\n    </tr>\n    <tr>\n      <td>2</td>\n      <td>0</td>\n      <td>0.0</td>\n      <td>0</td>\n      <td>2.0</td>\n      <td>12.0</td>\n      <td>2013.0</td>\n      <td>164.0</td>\n      <td>6.0</td>\n      <td>35.0</td>\n      <td>523.0</td>\n      <td>0.0</td>\n      <td>3.0</td>\n      <td>NaN</td>\n      <td>18.0</td>\n      <td>05db9164</td>\n      <td>38a947a1</td>\n      <td>3f55fb72</td>\n      <td>5de245c7</td>\n      <td>30903e74</td>\n      <td>7e0ccccf</td>\n      <td>b72ec13d</td>\n      <td>1f89b562</td>\n      <td>a73ee510</td>\n      <td>acce978c</td>\n      <td>3547565f</td>\n      <td>a5b0521a</td>\n      <td>12880350</td>\n      <td>b28479f6</td>\n      <td>c12fc269</td>\n      <td>95a8919c</td>\n      <td>e5ba7672</td>\n      <td>675c9258</td>\n      <td>NaN</td>\n      <td>NaN</td>\n      <td>2e01979f</td>\n      <td>NaN</td>\n      <td>bcdee96c</td>\n      <td>6d5d1302</td>\n      <td>NaN</td>\n      <td>NaN</td>\n    </tr>\n    <tr>\n      <td>3</td>\n      <td>0</td>\n      <td>NaN</td>\n      <td>13</td>\n      <td>1.0</td>\n      <td>4.0</td>\n      <td>16836.0</td>\n      <td>200.0</td>\n      <td>5.0</td>\n      <td>4.0</td>\n      <td>29.0</td>\n      <td>NaN</td>\n      <td>2.0</td>\n      <td>NaN</td>\n      <td>4.0</td>\n      <td>05db9164</td>\n      <td>8084ee93</td>\n      <td>02cf9876</td>\n      <td>c18be181</td>\n      <td>25c83c98</td>\n      <td>NaN</td>\n      <td>e14874c9</td>\n      <td>0b153874</td>\n      <td>7cc72ec2</td>\n      <td>2462946f</td>\n      <td>636405ac</td>\n      <td>8fe001f4</td>\n      <td>31b42deb</td>\n      <td>07d13a8f</td>\n      <td>422c8577</td>\n      <td>36103458</td>\n      <td>e5ba7672</td>\n      <td>52e44668</td>\n      <td>NaN</td>\n      <td>NaN</td>\n      <td>e587c466</td>\n      <td>NaN</td>\n      <td>32c7478e</td>\n      <td>3b183c5c</td>\n      <td>NaN</td>\n      <td>NaN</td>\n    </tr>\n    <tr>\n      <td>4</td>\n      <td>0</td>\n      <td>0.0</td>\n      <td>0</td>\n      <td>104.0</td>\n      <td>27.0</td>\n      <td>1990.0</td>\n      <td>142.0</td>\n      <td>4.0</td>\n      <td>32.0</td>\n      <td>37.0</td>\n      <td>0.0</td>\n      <td>1.0</td>\n      <td>NaN</td>\n      <td>27.0</td>\n      <td>05db9164</td>\n      <td>207b2d81</td>\n      <td>5d076085</td>\n      <td>862b5ba0</td>\n      <td>25c83c98</td>\n      <td>fbad5c96</td>\n      <td>17c22666</td>\n      <td>0b153874</td>\n      <td>a73ee510</td>\n      <td>534fc986</td>\n      <td>feb49a68</td>\n      <td>f24b551c</td>\n      <td>8978af5c</td>\n      <td>64c94865</td>\n      <td>32ec6582</td>\n      <td>b6d021e8</td>\n      <td>e5ba7672</td>\n      <td>25c88e42</td>\n      <td>21ddcdc9</td>\n      <td>b1252a9d</td>\n      <td>0e8585d2</td>\n      <td>NaN</td>\n      <td>32c7478e</td>\n      <td>0d4a6d1a</td>\n      <td>001f3601</td>\n      <td>92c878de</td>\n    </tr>\n    <tr>\n      <td>...</td>\n      <td>...</td>\n      <td>...</td>\n      <td>...</td>\n      <td>...</td>\n      <td>...</td>\n      <td>...</td>\n      <td>...</td>\n      <td>...</td>\n      <td>...</td>\n      <td>...</td>\n      <td>...</td>\n      <td>...</td>\n      <td>...</td>\n      <td>...</td>\n      <td>...</td>\n      <td>...</td>\n      <td>...</td>\n      <td>...</td>\n      <td>...</td>\n      <td>...</td>\n      <td>...</td>\n      <td>...</td>\n      <td>...</td>\n      <td>...</td>\n      <td>...</td>\n      <td>...</td>\n      <td>...</td>\n      <td>...</td>\n      <td>...</td>\n      <td>...</td>\n      <td>...</td>\n      <td>...</td>\n      <td>...</td>\n      <td>...</td>\n      <td>...</td>\n      <td>...</td>\n      <td>...</td>\n      <td>...</td>\n      <td>...</td>\n      <td>...</td>\n    </tr>\n    <tr>\n      <td>195</td>\n      <td>0</td>\n      <td>NaN</td>\n      <td>0</td>\n      <td>113.0</td>\n      <td>3.0</td>\n      <td>3036.0</td>\n      <td>575.0</td>\n      <td>2.0</td>\n      <td>3.0</td>\n      <td>214.0</td>\n      <td>NaN</td>\n      <td>1.0</td>\n      <td>NaN</td>\n      <td>3.0</td>\n      <td>05db9164</td>\n      <td>0468d672</td>\n      <td>628b07b0</td>\n      <td>b63c0277</td>\n      <td>25c83c98</td>\n      <td>7e0ccccf</td>\n      <td>0d339a25</td>\n      <td>c8ddd494</td>\n      <td>a73ee510</td>\n      <td>1722d4c8</td>\n      <td>7d756b25</td>\n      <td>0c87b3e9</td>\n      <td>6f833c7a</td>\n      <td>1adce6ef</td>\n      <td>4f3b3616</td>\n      <td>48af915a</td>\n      <td>07c540c4</td>\n      <td>9880032b</td>\n      <td>21ddcdc9</td>\n      <td>5840adea</td>\n      <td>34cc61bb</td>\n      <td>c9d4222a</td>\n      <td>32c7478e</td>\n      <td>e5ed7da2</td>\n      <td>ea9a246c</td>\n      <td>984e0db0</td>\n    </tr>\n    <tr>\n      <td>196</td>\n      <td>1</td>\n      <td>0.0</td>\n      <td>1</td>\n      <td>1.0</td>\n      <td>1.0</td>\n      <td>1607.0</td>\n      <td>12.0</td>\n      <td>1.0</td>\n      <td>12.0</td>\n      <td>15.0</td>\n      <td>0.0</td>\n      <td>1.0</td>\n      <td>NaN</td>\n      <td>12.0</td>\n      <td>be589b51</td>\n      <td>aa8fcc21</td>\n      <td>4255f8fd</td>\n      <td>7501d94a</td>\n      <td>25c83c98</td>\n      <td>fe6b92e5</td>\n      <td>0492c809</td>\n      <td>1f89b562</td>\n      <td>a73ee510</td>\n      <td>13ba96b0</td>\n      <td>ba0f9e8a</td>\n      <td>887a0c20</td>\n      <td>4e4dd817</td>\n      <td>07d13a8f</td>\n      <td>a4f91020</td>\n      <td>022714ba</td>\n      <td>1e88c74f</td>\n      <td>3972b4ed</td>\n      <td>NaN</td>\n      <td>NaN</td>\n      <td>d1aa4512</td>\n      <td>NaN</td>\n      <td>32c7478e</td>\n      <td>9257f75f</td>\n      <td>NaN</td>\n      <td>NaN</td>\n    </tr>\n    <tr>\n      <td>197</td>\n      <td>1</td>\n      <td>1.0</td>\n      <td>0</td>\n      <td>6.0</td>\n      <td>3.0</td>\n      <td>0.0</td>\n      <td>0.0</td>\n      <td>19.0</td>\n      <td>3.0</td>\n      <td>3.0</td>\n      <td>1.0</td>\n      <td>9.0</td>\n      <td>0.0</td>\n      <td>0.0</td>\n      <td>05db9164</td>\n      <td>09e68b86</td>\n      <td>db151f8b</td>\n      <td>f1b645fc</td>\n      <td>25c83c98</td>\n      <td>NaN</td>\n      <td>b87f4a4a</td>\n      <td>0b153874</td>\n      <td>a73ee510</td>\n      <td>e70742b0</td>\n      <td>319687c9</td>\n      <td>af6ad6b6</td>\n      <td>62036f49</td>\n      <td>f862f261</td>\n      <td>1dca7862</td>\n      <td>05a97a3c</td>\n      <td>3486227d</td>\n      <td>5aed7436</td>\n      <td>54591762</td>\n      <td>a458ea53</td>\n      <td>4a2c3526</td>\n      <td>NaN</td>\n      <td>32c7478e</td>\n      <td>1793a828</td>\n      <td>e8b83407</td>\n      <td>1a02cbe1</td>\n    </tr>\n    <tr>\n      <td>198</td>\n      <td>0</td>\n      <td>0.0</td>\n      <td>22</td>\n      <td>6.0</td>\n      <td>22.0</td>\n      <td>203.0</td>\n      <td>153.0</td>\n      <td>80.0</td>\n      <td>18.0</td>\n      <td>508.0</td>\n      <td>0.0</td>\n      <td>11.0</td>\n      <td>0.0</td>\n      <td>22.0</td>\n      <td>05db9164</td>\n      <td>e5fb1af3</td>\n      <td>7e1ad1fe</td>\n      <td>46ec0a38</td>\n      <td>43b19349</td>\n      <td>7e0ccccf</td>\n      <td>24c48926</td>\n      <td>0b153874</td>\n      <td>a73ee510</td>\n      <td>afa26c81</td>\n      <td>9f0003f4</td>\n      <td>651d80c6</td>\n      <td>5afd9e51</td>\n      <td>07d13a8f</td>\n      <td>b5de5956</td>\n      <td>72401022</td>\n      <td>3486227d</td>\n      <td>13145934</td>\n      <td>55dd3565</td>\n      <td>5840adea</td>\n      <td>bf647035</td>\n      <td>NaN</td>\n      <td>32c7478e</td>\n      <td>1481ceb4</td>\n      <td>e8b83407</td>\n      <td>988b0775</td>\n    </tr>\n    <tr>\n      <td>199</td>\n      <td>0</td>\n      <td>1.0</td>\n      <td>-1</td>\n      <td>NaN</td>\n      <td>NaN</td>\n      <td>138.0</td>\n      <td>0.0</td>\n      <td>1.0</td>\n      <td>0.0</td>\n      <td>0.0</td>\n      <td>1.0</td>\n      <td>1.0</td>\n      <td>NaN</td>\n      <td>NaN</td>\n      <td>be589b51</td>\n      <td>b46aceb6</td>\n      <td>NaN</td>\n      <td>NaN</td>\n      <td>43b19349</td>\n      <td>NaN</td>\n      <td>17cdc396</td>\n      <td>0b153874</td>\n      <td>a73ee510</td>\n      <td>75d852fc</td>\n      <td>d79cc967</td>\n      <td>NaN</td>\n      <td>115d29f4</td>\n      <td>07d13a8f</td>\n      <td>217d99f2</td>\n      <td>NaN</td>\n      <td>d4bb7bd8</td>\n      <td>908eaeb8</td>\n      <td>NaN</td>\n      <td>NaN</td>\n      <td>NaN</td>\n      <td>NaN</td>\n      <td>32c7478e</td>\n      <td>NaN</td>\n      <td>NaN</td>\n      <td>NaN</td>\n    </tr>\n  </tbody>\n</table>\n<p>200 rows × 40 columns</p>\n</div>",
      "text/plain": "     label   I1  I2     I3  ...       C23       C24       C25       C26\n0        0  NaN   3  260.0  ...  3a171ecb  c0d61a5c       NaN       NaN\n1        0  NaN  -1   19.0  ...  be7c41b4  ded4aac9       NaN       NaN\n2        0  0.0   0    2.0  ...  bcdee96c  6d5d1302       NaN       NaN\n3        0  NaN  13    1.0  ...  32c7478e  3b183c5c       NaN       NaN\n4        0  0.0   0  104.0  ...  32c7478e  0d4a6d1a  001f3601  92c878de\n..     ...  ...  ..    ...  ...       ...       ...       ...       ...\n195      0  NaN   0  113.0  ...  32c7478e  e5ed7da2  ea9a246c  984e0db0\n196      1  0.0   1    1.0  ...  32c7478e  9257f75f       NaN       NaN\n197      1  1.0   0    6.0  ...  32c7478e  1793a828  e8b83407  1a02cbe1\n198      0  0.0  22    6.0  ...  32c7478e  1481ceb4  e8b83407  988b0775\n199      0  1.0  -1    NaN  ...  32c7478e       NaN       NaN       NaN\n\n[200 rows x 40 columns]"
     },
     "metadata": {},
     "execution_count": 7
    }
   ],
   "source": [
    "data"
   ]
  },
  {
   "cell_type": "code",
   "execution_count": 13,
   "metadata": {},
   "outputs": [],
   "source": [
    "i1 = data['I3'].dropna().sort_values()\n",
    "sns.lineplot(range(len(i1)), i1)\n",
    "plt.show()"
   ]
  },
  {
   "cell_type": "code",
   "execution_count": null,
   "metadata": {},
   "outputs": [],
   "source": []
  }
 ]
}